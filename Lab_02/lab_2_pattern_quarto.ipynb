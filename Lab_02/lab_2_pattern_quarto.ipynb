{
 "cells": [
  {
   "cell_type": "markdown",
   "metadata": {},
   "source": [
    "---\n",
    "\"Лабораторна робота 2. Побудова лінійного бінарного класифікатора на основі оптимізації функціонала якості\"\n",
    "#__Розпізнавання образів та комп'ютерний зір__\n",
    "---"
   ]
  },
  {
   "cell_type": "markdown",
   "metadata": {},
   "source": [
    "**Мета**: реалізузвати бінарний класифікатор на основі оптимізації функціонала якості засобами мови Python"
   ]
  },
  {
   "cell_type": "markdown",
   "metadata": {},
   "source": [
    "::: callout-note\n",
    "## Примітка\n",
    "Попередньо опрацювати матеріали **Лекції 1**.\n",
    ":::"
   ]
  },
  {
   "cell_type": "markdown",
   "metadata": {
    "tags": []
   },
   "source": [
    "## Що ви будете вміти?\n",
    "* Використовувати деякі можливості бібліотеки `NumPy`\n",
    "* Реалізувати простий лінійний класифікатор на основі оптимізації функціонала якості засобами мови Python"
   ]
  },
  {
   "cell_type": "markdown",
   "metadata": {},
   "source": [
    "## Короткі теоретичні відомості"
   ]
  },
  {
   "cell_type": "markdown",
   "metadata": {},
   "source": [
    "### Бібліотека NumPy"
   ]
  },
  {
   "cell_type": "markdown",
   "metadata": {},
   "source": [
    "[NumPy](https://numpy.org/), скорочено від Numerical Python, вже давно є наріжним каменем чисельних обчислень у Python. Він надає структури даних, алгоритми та бібліотечні зв'язки, необхідні для більшості наукових програм, що використовують числові дані у Python. NumPy містить, серед іншого:\n",
    "\n",
    "* Швидкий та ефективний об'єкт багатовимірного масиву ndarray\n",
    "\n",
    "* Функції для виконання поелементних обчислень з масивами або математичних операцій між масивами\n",
    "\n",
    "* Інструменти для читання та запису наборів даних на основі масивів на диск\n",
    "\n",
    "* Операції лінійної алгебри, перетворення Фур'є та генерування випадкових чисел\n",
    "\n",
    "* Досконалий C API, що дозволяє розширенням Python та власному коду на C або C++ отримувати доступ до структур даних та обчислювальних засобів NumPy.\n",
    "\n",
    "Окрім можливостей швидкої обробки масивів, які NumPy додає до Python, одним з основних застосувань NumPy в аналізі даних є використання його як контейнера для даних, що передаються між алгоритмами та бібліотеками. Для числових даних масиви NumPy є більш ефективними для зберігання та маніпулювання даними, ніж інші вбудовані структури даних Python. Крім того, бібліотеки, написані мовою нижчого рівня, наприклад, C або FORTRAN, можуть працювати з даними, що зберігаються в масиві NumPy, без копіювання даних в інше представлення пам'яті. Таким чином, багато інструментів чисельних обчислень для Python або вважають масиви NumPy основною структурою даних, або орієнтовані на сумісність з NumPy.\n",
    "\n",
    "Для інсталяції пакету потрібно виконати таку команду с консолі:\n",
    "\n",
    "`conda install numpy`"
   ]
  },
  {
   "cell_type": "markdown",
   "metadata": {},
   "source": [
    "### Постановка задачі"
   ]
  },
  {
   "cell_type": "markdown",
   "metadata": {},
   "source": [
    "Скористаємося квадратичною функціює втрат і тоді лля нашого випадку отримаємо:\n",
    "\n",
    "$L_i(\\omega) = (1 - M_i)^2 = (1 - \\omega^T \\cdot x_i \\cdot y_i)^2.$\n",
    "\n",
    "Тоді функціонал якості матиме вигляд:\n",
    "\n",
    "$Q(a, X^l) = \\sum_{l=1}^i (1 - \\omega^T \\cdot x_i \\cdot y_i)^2 \\rightarrow \\min \\limits_{\\substack{\\omega}}$\n",
    "\n",
    "\n",
    "Маємо задачу одновимірної оптимізації:\n",
    "\n",
    "$\\frac{dQ(\\omega)}{d \\omega} = 0.$\n",
    "\n",
    "Розв'язок (знайти самостійно) матимиме такий вигляд:\n",
    "\n",
    "$\\omega ^T = \\sum_{i=1}^l x_i^T y_i \\Big( \\sum_{i=1}^l x_i x_i^T \\Big )^{-1}.$"
   ]
  },
  {
   "cell_type": "markdown",
   "metadata": {},
   "source": [
    "### Приклад реалізації на Python"
   ]
  },
  {
   "cell_type": "markdown",
   "metadata": {},
   "source": [
    "Нижче наведено код, який реалізує розрахунок коефіцієнтів лінійного класифікатора на основі оцінки, вираз якої було виведено вище."
   ]
  },
  {
   "cell_type": "code",
   "execution_count": 18,
   "metadata": {},
   "outputs": [
    {
     "name": "stdout",
     "output_type": "stream",
     "text": [
      "[ 0.05793234 -0.0346272   0.1912188 ]\n"
     ]
    },
    {
     "data": {
      "image/png": "[encoded data removed]",
      "text/plain": [
       "<Figure size 640x480 with 1 Axes>"
      ]
     },
     "metadata": {},
     "output_type": "display_data"
    }
   ],
   "source": [
    "import numpy as np\n",
    "import matplotlib.pyplot as plt\n",
    "\n",
    "\n",
    "x_train = [[10, 50], [20, 30], [25, 30], [20, 60], [15, 70], [40, 40], [30, 45], [20, 45], [40, 30], [7, 35]]\n",
    "x_train = [x + [1] for x in x_train]  # Додаємо зміщення для кожного прикладу\n",
    "x_train = np.array(x_train)\n",
    "y_train = np.array([-1, 1, 1, -1, -1, 1, 1, -1, 1, -1])\n",
    "\n",
    "pt = np.sum([x * y for x, y in zip(x_train, y_train)], axis=0)  # Обчислення підсумку\n",
    "xxt = np.sum([np.outer(x, x) for x in x_train], axis=0)  # Обчислення підсумку зовнішнього добутку\n",
    "w = np.dot(pt, np.linalg.inv(xxt))  # Обчислення вагових коефіцієнтів\n",
    "print(w)\n",
    "\n",
    "line_x = list(range(max(x_train[:, 0])))    # формування координат для лінії розділення\n",
    "line_y = [-x*w[0]/w[1] - w[2]/w[1] for x in line_x]\n",
    "\n",
    "x_0 = x_train[y_train == 1]                 # формування точок для класу 1\n",
    "x_1 = x_train[y_train == -1]                # і класу -1\n",
    "\n",
    "plt.scatter(x_0[:, 0], x_0[:, 1], color='red')  # відображення точок класу 1 червоним кольором\n",
    "plt.scatter(x_1[:, 0], x_1[:, 1], color='blue')  # відображення точок класу -1 синім кольором\n",
    "plt.plot(line_x, line_y, color='green')  # відображення лінії розділення зеленим кольором\n",
    "\n",
    "plt.xlim([0, 45])\n",
    "plt.ylim([0, 75])\n",
    "plt.ylabel(\"довжина\")\n",
    "plt.xlabel(\"ширина\")\n",
    "plt.grid(True)\n",
    "plt.show()"
   ]
  },
  {
   "cell_type": "markdown",
   "metadata": {},
   "source": [
    "## Завдання для самостійної роботи "
   ]
  },
  {
   "cell_type": "markdown",
   "metadata": {},
   "source": [
    "1. Імпортувати дані для навчальної вибірки згідно з індивідуальним варіантом (імпорт організувати з файлу).\n",
    "1. Побудувати бінарний МНК-класифікатор згідно з розглянутим вище прикладом і вивести результати бінарної класифікації на графіку.\n",
    "1. Проаналізувати  отримані результати і порівняти їх з результатами, отриманими у лаб роб. 1.\n",
    "1. Дати відповіді на контрольні запитання.\n",
    "1. Відправити результати роботи у файлі lab_2_StudentLastName.ipynb до віддаленого репозиторію на GіtHub."
   ]
  },
  {
   "cell_type": "markdown",
   "metadata": {},
   "source": [
    "## Контрольні питання\n",
    "\n",
    "1. Що таке відступ (margin) і яка його роль в побудові моделі класифікації?\n",
    "    - Це ключове поняття, яке допомагає визначити, наскільки добре модель розділяє класи в навчальному наборі даних.\n",
    "2. Яка роль функції втрат і чому не можна знайти коефіцієнти лінійного класифікатора шляхом безпосереднього розв'язаня задачі оптимізації через знаходження похідної?\n",
    "    - Керування Навчанням: Функція втрат керує процесом оптимізації, надаючи зворотний зв'язок про те, наскільки добре модель працює. Чим менша втрата, тим краще здатність моделі узгоджувати свої прогнози з фактичними мітками.\n",
    "    - Оцінка Моделі: Вона використовується для оцінки якості моделі під час тренування, допомагаючи виявити проблеми, такі як перенавчання (overfitting) або недонавчання (underfitting).\n",
    "    - Градієнтний Спуск: У навчанні моделі часто використовується градієнтний спуск або подібні алгоритми для мінімізації функції втрат, де градієнти втрат визначають напрямок і величину кроків, які модель має виконати, щоб покращити свої прогнози.\n",
    "3. Чим приницпово розрізняється алгоритм, розглянутий у цій роботі від алгоритму, розглянутого у лаб. роб 1?\n",
    "   - Основна різниця між двома типами класифікаторів полягає у методах визначення оптимальних параметрів моделі. Простий лінійний бінарний класифікатор  застосовує прямі аналітичні методи або ітеративні підходи, тоді як більш складний лінійний бінарний класифікатор використовує методи оптимізації функціоналу якості для точного налаштування своїх параметрів.\n",
    "5. Вивести математичний вираз для оцінки вектора $\\omega$?\n",
    "   \n",
    " "
   ]
  },
  {
   "cell_type": "markdown",
   "metadata": {},
   "source": [
    "### Варіант індивідульного завдання №7"
   ]
  },
  {
   "cell_type": "code",
   "execution_count": 27,
   "metadata": {},
   "outputs": [
    {
     "name": "stdout",
     "output_type": "stream",
     "text": [
      "[-0.02469718 -0.04200629  0.          2.25      ]\n"
     ]
    },
    {
     "data": {
      "image/png": "[encoded data removed]",
      "text/plain": [
       "<Figure size 640x480 with 1 Axes>"
      ]
     },
     "metadata": {},
     "output_type": "display_data"
    }
   ],
   "source": [
    "import numpy as np\n",
    "import matplotlib.pyplot as plt\n",
    "import pandas as pd\n",
    "\n",
    "# Завантаження даних з файлу\n",
    "data = pd.read_csv('../data.csv')\n",
    "x_train_1 = data[['Size', 'Shape']].values\n",
    "y_train_1 = data['Category'].values\n",
    "\n",
    "# Додаємо зміщення для кожного прикладу\n",
    "x_train = np.hstack([x_train, np.ones((x_train.shape[0], 1))])\n",
    "\n",
    "pt = np.sum([x * y for x, y in zip(x_train, y_train)], axis=0)  # Обчислення підсумку\n",
    "xxt = np.sum([np.outer(x, x) for x in x_train], axis=0)  # Обчислення підсумку зовнішнього добутку\n",
    "w = np.dot(pt, np.linalg.inv(xxt))  # Обчислення вагових коефіцієнтів\n",
    "print(w)\n",
    "\n",
    "line_x = np.linspace(0, max(x_train[:, 0]), 100)  # Змінено для плавного лінії\n",
    "line_y = [-x * w[0] / w[1] - w[2] / w[1] for x in line_x]\n",
    "\n",
    "x_0 = x_train[y_train == 1]                 # формування точок для класу 1\n",
    "x_1 = x_train[y_train == -1]                # і класу -1\n",
    "\n",
    "plt.scatter(x_0[:, 0], x_0[:, 1], color='red')  # відображення точок класу 1 червоним кольором\n",
    "plt.scatter(x_1[:, 0], x_1[:, 1], color='blue')  # відображення точок класу -1 синім кольором\n",
    "plt.plot(line_x, line_y, color='green')  # відображення лінії розділення зеленим кольором\n",
    "\n",
    "plt.xlim([0, 45])\n",
    "plt.ylim([0, 75])\n",
    "plt.ylabel(\"Shape\")\n",
    "plt.xlabel(\"Size\")\n",
    "plt.grid(True)\n",
    "plt.show()\n"
   ]
  },
  {
   "cell_type": "markdown",
   "metadata": {},
   "source": [
    "## References"
   ]
  },
  {
   "cell_type": "markdown",
   "metadata": {},
   "source": [
    "1. [Машинное обучение. Вводная лекция. К.В. Воронцов, Школа анализа данных, Яндекс.](https://www.youtube.com/watch?v=SZkrxWhI5qM&list=PLJOzdkh8T5krxc4HsHbB8g8f0hu7973fK&index=2)\n",
    "1. [#1. Что такое машинное обучение? Обучающая выборка и признаковое пространство | Машинное обучение](https://www.youtube.com/watch?v=Md8RW6tKCNg)\n",
    "1. [NumPy](https://numpy.org)\n",
    "1. [NumPy](https://wesmckinney.com/book/preliminaries)"
   ]
  }
 ],
 "metadata": {
  "kernelspec": {
   "display_name": "Python 3 (ipykernel)",
   "language": "python",
   "name": "python3"
  },
  "language_info": {
   "codemirror_mode": {
    "name": "ipython",
    "version": 3
   },
   "file_extension": ".py",
   "mimetype": "text/x-python",
   "name": "python",
   "nbconvert_exporter": "python",
   "pygments_lexer": "ipython3",
   "version": "3.11.2"
  }
 },
 "nbformat": 4,
 "nbformat_minor": 4
}
